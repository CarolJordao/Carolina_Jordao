{
 "cells": [
  {
   "cell_type": "markdown",
   "id": "db8ec8fa-358d-4951-b256-e826f7fd4519",
   "metadata": {},
   "source": [
    "This game is inspired in the movie \"Tarzan\". The storyline is that Tarzan wakes up one day and realises that Jane, the girl he's in love with, gets kidnapped by the baboons, a type of monkey, and he needs to rescue her. The player needs to help Tarzan, by chasing the baboons as well. During the game the player needs to decide what to do. There are no current bugs in the code; however, I wasn't able to figure out a way to color the input clause since the output is the uncolored text plus the color's code on both sides. By separating the text with a print clause and adding a input clause, I was able to solve the problem but i believe there should be a more practical way to do so."
   ]
  },
  {
   "cell_type": "code",
   "execution_count": 22,
   "id": "5aae2521-6f55-46af-81da-fcd30f3073b5",
   "metadata": {},
   "outputs": [
    {
     "name": "stdout",
     "output_type": "stream",
     "text": [
      "\u001b[35m\n",
      "                                 _    _ _____ _     _____ ________  ___ _____ \n",
      "                                | |  | |  ___| |   /  __ \\  _  |  \\/  ||  ___|\n",
      "                                | |  | | |__ | |   | /  \\/ | | | .  . || |__  \n",
      "                                | |/\\| |  __|| |   | |   | | | | |\\/| ||  __| \n",
      "                                \\  /\\  / |___| |___| \\__/\\ \\_/ / |  | || |___ \n",
      "                                 \\/  \\/\\____/\\_____/\\____/\\___/\\_|  |_/\\____/ \n",
      "\n",
      "                              _____ _____   _____ ___  ______ ______  ___   _   _ \n",
      "                            |_   _|  _  | |_   _/ _ \\ | ___ \\___  / / _ \\ | \\ | |\n",
      "                              | | | | | |   | |/ /_\\ \\| |_/ /  / / / /_\\ \\|  \\| |\n",
      "                              | | | | | |   | ||  _  ||    /  / /  |  _  || . ` |\n",
      "                              | | \\ \\_/ /   | || | | || |\\ \\./ /___| | | || |\\  |\n",
      "                              \\_/  \\___/    \\_/\\_| |_/\\_| \\_\\_____/\\_| |_/\\_| \\_/\n",
      "\n",
      "\n",
      "\n",
      "\u001b[39m\n"
     ]
    },
    {
     "name": "stdin",
     "output_type": "stream",
     "text": [
      "What is your name?: carol\n"
     ]
    },
    {
     "name": "stdout",
     "output_type": "stream",
     "text": [
      "Hi carol 👋🏻! Nice to meet you! Hope you are as excited as me!\n"
     ]
    },
    {
     "name": "stdin",
     "output_type": "stream",
     "text": [
      "Have you watched the movie \"Tarzan\"? gfdsa\n"
     ]
    },
    {
     "name": "stdout",
     "output_type": "stream",
     "text": [
      "I didn't get that.\n"
     ]
    },
    {
     "name": "stdin",
     "output_type": "stream",
     "text": [
      "Have you watched the movie \"Tarzan\"? fdsa\n"
     ]
    },
    {
     "name": "stdout",
     "output_type": "stream",
     "text": [
      "I didn't get that.\n"
     ]
    },
    {
     "name": "stdin",
     "output_type": "stream",
     "text": [
      "Have you watched the movie \"Tarzan\"? no\n"
     ]
    },
    {
     "name": "stdout",
     "output_type": "stream",
     "text": [
      "\u001b[31mOh, that's okay 😕 \u001b[39m\n"
     ]
    },
    {
     "name": "stdin",
     "output_type": "stream",
     "text": [
      "What's your favorite movie? gdfs\n"
     ]
    },
    {
     "name": "stdout",
     "output_type": "stream",
     "text": [
      "That's a great one! I'll take your suggestion one of these days 🥰\n",
      "\u001b[35m\n",
      "                \n",
      "******************************************\n",
      "\n",
      "Here's a little context:\n",
      "\n",
      "Tarzan was found in the jungle by an ape called Kala. Kala and the ape civilization\n",
      "decided to take care of baby Tarzan. While he grew up, he learned many skills from \n",
      "the animals in the jungle. One day, he meets Jane and falls in love with her 💗💕💓💖💘\n",
      "\n",
      "\n",
      "But.........\n",
      "\n",
      "\n",
      "All of a sudden, something happens and Tarzan needs your help!\n",
      "\n",
      "******************************************\n",
      "\u001b[39m\n",
      "\u001b[33m\n",
      "ARE YOU READY TO KNOW WHAT HAPPENED? \n",
      "Press <ENTER> to find out 😳\n",
      "\n",
      "\u001b[39m\n"
     ]
    },
    {
     "name": "stdin",
     "output_type": "stream",
     "text": [
      " \n"
     ]
    },
    {
     "name": "stdout",
     "output_type": "stream",
     "text": [
      "\u001b[34m\n",
      "*********************************************************\n",
      "\n",
      "                WELCOME TO \n",
      "\n",
      "██╗     ███████╗██╗   ██╗███████╗██╗          ██╗\n",
      "██║     ██╔════╝██║   ██║██╔════╝██║         ███║\n",
      "██║     █████╗  ██║   ██║█████╗  ██║         ╚██║\n",
      "██║     ██╔══╝  ╚██╗ ██╔╝██╔══╝  ██║          ██║\n",
      "███████╗███████╗ ╚████╔╝ ███████╗███████╗     ██║\n",
      "╚══════╝╚══════╝  ╚═══╝  ╚══════╝╚══════╝     ╚═╝\n",
      "\n",
      "*********************************************************\n",
      "\u001b[39m\n",
      "\u001b[31m\n",
      "Today, Tarzan woke up and he found out that Jane \n",
      "had been kidnapped and hidden somewhere by the babboons 🐒. \n",
      "⚠️ He needs your help on this mission ⚠️ \n",
      "\u001b[39m\n"
     ]
    },
    {
     "name": "stdin",
     "output_type": "stream",
     "text": [
      " Press <ENTER> to continue \n"
     ]
    },
    {
     "name": "stdout",
     "output_type": "stream",
     "text": [
      "\n",
      "First, you need to choose your weapon. \n",
      "These are your options:\n",
      "\n",
      " 🪵 stick\n",
      " 🔫 shotgun\n",
      " 🔪 knife\n"
     ]
    },
    {
     "name": "stdin",
     "output_type": "stream",
     "text": [
      "Which one do you want? fsdas\n"
     ]
    },
    {
     "name": "stdout",
     "output_type": "stream",
     "text": [
      "Please try again\t\n"
     ]
    },
    {
     "name": "stdin",
     "output_type": "stream",
     "text": [
      "Which one do you want? fdas\n"
     ]
    },
    {
     "name": "stdout",
     "output_type": "stream",
     "text": [
      "Please try again\t\n"
     ]
    },
    {
     "name": "stdin",
     "output_type": "stream",
     "text": [
      "Which one do you want? knife\n"
     ]
    },
    {
     "name": "stdout",
     "output_type": "stream",
     "text": [
      "\n",
      "Good!! You chose a knife and now you need to rush to follow \n",
      "the baboons and save Jane!\n",
      "\u001b[31m     \n",
      "  _   _   _   _   _   _  \n",
      " / \\ / \\ / \\ / \\ / \\ / \\ \n",
      "( R | U | N | ! | ! | ! )\n",
      " \\_/ \\_/ \\_/ \\_/ \\_/ \\_/ \n",
      "\u001b[39m\n",
      "\n",
      "         🏃🏻‍♂️\n",
      "\n",
      "         🏃🏻‍♂️\n",
      "\n",
      "         🏃🏻‍♂️\n",
      "\n",
      "         🏃🏻‍♂️\n",
      "\n",
      "         🏃🏻‍♂️\n",
      "\n",
      "         🏃🏻‍♂️\n",
      "\u001b[34m\n",
      "OH NOOO!! You lost the baboons and you arrive to a crossroads ↖️↗️. \n",
      "You can choose to go left or right. \t\u001b[39m\n"
     ]
    },
    {
     "name": "stdin",
     "output_type": "stream",
     "text": [
      "Type \"left\" or \"right: hgfdsda\n"
     ]
    },
    {
     "name": "stdout",
     "output_type": "stream",
     "text": [
      "I didn't get that. Please try again?\t\n",
      "\u001b[34m\n",
      "OH NOOO!! You lost the baboons and you arrive to a crossroads ↖️↗️. \n",
      "You can choose to go left or right. \t\u001b[39m\n"
     ]
    },
    {
     "name": "stdin",
     "output_type": "stream",
     "text": [
      "Type \"left\" or \"right: left\n"
     ]
    },
    {
     "name": "stdout",
     "output_type": "stream",
     "text": [
      "\n",
      "Damn!! The baboons placed a trap on the floor and you fell into it...You're dead 😢\n",
      "\n",
      "But okay, I'll give you another chance ❤️. Start from the beginning\n",
      "\u001b[34m\n",
      "OH NOOO!! You lost the baboons and you arrive to a crossroads ↖️↗️. \n",
      "You can choose to go left or right. \t\u001b[39m\n"
     ]
    },
    {
     "name": "stdin",
     "output_type": "stream",
     "text": [
      "Type \"left\" or \"right: right\n"
     ]
    },
    {
     "name": "stdout",
     "output_type": "stream",
     "text": [
      "\n",
      "Good choice! The baboons had placed a trap on the left. You escaped it! \n",
      "And now you arrive to a river. What do you want to do next?:\n",
      "                  1. Swim through the river 🌊\n",
      "                  2. Walk around it 🔄\n",
      "\n",
      "\u001b[34mWhat's your choice, 1 or 2?\u001b[39m\n"
     ]
    },
    {
     "name": "stdin",
     "output_type": "stream",
     "text": [
      " jmgfds\n"
     ]
    },
    {
     "name": "stdout",
     "output_type": "stream",
     "text": [
      "I didn't get that. Please try again?\t\n",
      "\n",
      "Good choice! The baboons had placed a trap on the left. You escaped it! \n",
      "And now you arrive to a river. What do you want to do next?:\n",
      "                  1. Swim through the river 🌊\n",
      "                  2. Walk around it 🔄\n",
      "\n",
      "\u001b[34mWhat's your choice, 1 or 2?\u001b[39m\n"
     ]
    },
    {
     "name": "stdin",
     "output_type": "stream",
     "text": [
      " 1\n"
     ]
    },
    {
     "name": "stdout",
     "output_type": "stream",
     "text": [
      "Oopsi...There was an alligator 🐊 waiting for you. You died 😢\n",
      "But I want you to keep playing my game so here's another life ❤️. Start from the beginning\n",
      "\n",
      "Good choice! The baboons had placed a trap on the left. You escaped it! \n",
      "And now you arrive to a river. What do you want to do next?:\n",
      "                  1. Swim through the river 🌊\n",
      "                  2. Walk around it 🔄\n",
      "\n",
      "\u001b[34mWhat's your choice, 1 or 2?\u001b[39m\n"
     ]
    },
    {
     "name": "stdin",
     "output_type": "stream",
     "text": [
      " 2\n"
     ]
    },
    {
     "name": "stdout",
     "output_type": "stream",
     "text": [
      "\n",
      "You walked many miles and ran out of water but you survived!  \n",
      "You fell into a portal and became unconscious 😵 \n",
      "\u001b[35m  \n",
      "    \n",
      "    \n",
      "    \n",
      "                CONGRATULATIONS! \n",
      "                You made it to\n",
      "\n",
      "██╗     ███████╗██╗   ██╗███████╗██╗         ██████╗ \n",
      "██║     ██╔════╝██║   ██║██╔════╝██║         ╚════██╗\n",
      "██║     █████╗  ██║   ██║█████╗  ██║          █████╔╝\n",
      "██║     ██╔══╝  ╚██╗ ██╔╝██╔══╝  ██║         ██╔═══╝ \n",
      "███████╗███████╗ ╚████╔╝ ███████╗███████╗    ███████╗\n",
      "╚══════╝╚══════╝  ╚═══╝  ╚══════╝╚══════╝    ╚══════╝\n",
      "\n",
      "\u001b[39m\n",
      "\u001b[34m\n",
      "\n",
      "You won the possibility to choose a SUPERPOWER 🪄. Type 1 or 2:\n",
      "1. Being super strong 💪🏻\n",
      "2. Being invisible 😶‍🌫️ \n",
      "\n",
      "\u001b[39m\n"
     ]
    },
    {
     "name": "stdin",
     "output_type": "stream",
     "text": [
      "Choose a number: hgfsdas\n"
     ]
    },
    {
     "name": "stdout",
     "output_type": "stream",
     "text": [
      "There was no valid number. Try again:\n"
     ]
    },
    {
     "name": "stdin",
     "output_type": "stream",
     "text": [
      "Choose a number: dwqs\n"
     ]
    },
    {
     "name": "stdout",
     "output_type": "stream",
     "text": [
      "There was no valid number. Try again:\n"
     ]
    },
    {
     "name": "stdin",
     "output_type": "stream",
     "text": [
      "Choose a number: 2\n"
     ]
    },
    {
     "name": "stdout",
     "output_type": "stream",
     "text": [
      "WOW! Now you are invisible so you walked throught the wall and escaped! \n",
      "\u001b[33mLet's continue looking for Jane. You should climb a tree 🌴 to see if you spot her 👀. \u001b[39m\n",
      ".\n",
      ".\n",
      ".\n",
      ".\n",
      ".\n",
      ".\n",
      "\n",
      "  _ _ _  __     ______  _    _      _____ ______ ______     _    _ ______ _____    _ _ _ \n",
      " | | | | \\ \\   / / __ \\| |  | |    / ____|  ____|  ____|   | |  | |  ____|  __ \\  | | | |\n",
      " | | | |  \\ \\_/ / |  | | |  | |   | (___ | |__  | |__      | |__| | |__  | |__) | | | | |\n",
      " | | | |   \\   /| |  | | |  | |    \\___ \\|  __| |  __|     |  __  |  __| |  _  /  | | | |\n",
      " |_|_|_|    | | | |__| | |__| |    ____) | |____| |____    | |  | | |____| | \\ \\  |_|_|_|\n",
      " (_|_|_)    |_|  \\____/ \\____/    |_____/|______|______|   |_|  |_|______|_|  \\_\\ (_|_|_)\n",
      "                                                                                         \n",
      " Jane is hiding on a tree.\n",
      "\u001b[34m\n",
      "\n",
      "Choose how you want to go meet her. Type 1 or 2:\n",
      "1. Swing on the vines \n",
      "2. Jump from tree to tree\n",
      "\u001b[39m\n"
     ]
    },
    {
     "name": "stdin",
     "output_type": "stream",
     "text": [
      "Answer: hgdfsx\n"
     ]
    },
    {
     "name": "stdout",
     "output_type": "stream",
     "text": [
      "I don't know what you said. Try again please!\n"
     ]
    },
    {
     "name": "stdin",
     "output_type": "stream",
     "text": [
      "Answer: 1\n"
     ]
    },
    {
     "name": "stdout",
     "output_type": "stream",
     "text": [
      "Good job! You found Jane!!\n",
      "            \n",
      "\u001b[36m\n",
      "    \n",
      "            WOW!! You're a warrior!!!\n",
      "                  WELCOME TO\n",
      "\n",
      "██╗     ███████╗██╗   ██╗███████╗██╗         ██████╗ \n",
      "██║     ██╔════╝██║   ██║██╔════╝██║         ╚════██╗\n",
      "██║     █████╗  ██║   ██║█████╗  ██║          █████╔╝\n",
      "██║     ██╔══╝  ╚██╗ ██╔╝██╔══╝  ██║          ╚═══██╗\n",
      "███████╗███████╗ ╚████╔╝ ███████╗███████╗    ██████╔╝\n",
      "╚══════╝╚══════╝  ╚═══╝  ╚══════╝╚══════╝    ╚═════╝ \n",
      "\n",
      "                            \u001b[39m\n",
      "\u001b[33m\n",
      "You are with Jane, but one of the baboons wants to fight you!\n",
      "\n",
      "    Press 1 to punch the baboon 👊🏻\n",
      "    Press 2 to kick the baboon🦵🏻\n",
      "    Press 3 to throw Jane at the baboon and run away 💨 \n",
      "    \n",
      "\u001b[39m\n"
     ]
    },
    {
     "name": "stdin",
     "output_type": "stream",
     "text": [
      "What's your choice? hrfs\n"
     ]
    },
    {
     "name": "stdout",
     "output_type": "stream",
     "text": [
      "That doesn't seem correct...Try again:\n"
     ]
    },
    {
     "name": "stdin",
     "output_type": "stream",
     "text": [
      "What's your choice? 2\n"
     ]
    },
    {
     "name": "stdout",
     "output_type": "stream",
     "text": [
      "AUTCH!!! That was a hard kick, good job! You killed the baboon\n",
      "\u001b[32m\n",
      "\n",
      " ██████╗ ██████╗ ███╗   ██╗ ██████╗ ██████╗  █████╗ ████████╗███████╗██╗██╗    \n",
      "██╔════╝██╔═══██╗████╗  ██║██╔════╝ ██╔══██╗██╔══██╗╚══██╔══╝██╔════╝██║██║    \n",
      "██║     ██║   ██║██╔██╗ ██║██║  ███╗██████╔╝███████║   ██║   ███████╗██║██║    \n",
      "██║     ██║   ██║██║╚██╗██║██║   ██║██╔══██╗██╔══██║   ██║   ╚════██║╚═╝╚═╝    \n",
      "╚██████╗╚██████╔╝██║ ╚████║╚██████╔╝██║  ██║██║  ██║   ██║   ███████║██╗██╗    \n",
      " ╚═════╝ ╚═════╝ ╚═╝  ╚═══╝ ╚═════╝ ╚═╝  ╚═╝╚═╝  ╚═╝   ╚═╝   ╚══════╝╚═╝╚═╝    \n",
      "\n",
      "\n",
      "\n",
      "\n",
      "      ██╗   ██╗ ██████╗ ██╗   ██╗    ██╗    ██╗ ██████╗ ███╗   ██╗                   \n",
      "      ╚██╗ ██╔╝██╔═══██╗██║   ██║    ██║    ██║██╔═══██╗████╗  ██║                   \n",
      "       ╚████╔╝ ██║   ██║██║   ██║    ██║ █╗ ██║██║   ██║██╔██╗ ██║                   \n",
      "        ╚██╔╝  ██║   ██║██║   ██║    ██║███╗██║██║   ██║██║╚██╗██║                   \n",
      "         ██║   ╚██████╔╝╚██████╔╝    ╚███╔███╔╝╚██████╔╝██║ ╚████║                   \n",
      "         ╚═╝    ╚═════╝  ╚═════╝      ╚══╝╚══╝  ╚═════╝ ╚═╝  ╚═══╝                   \n",
      "\n",
      "\n",
      "                                                                                \n",
      "\n",
      "    \n",
      "    \u001b[39m\n"
     ]
    }
   ]
