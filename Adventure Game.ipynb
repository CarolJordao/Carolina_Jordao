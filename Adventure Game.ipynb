{
 "cells": [
  {
   "cell_type": "markdown",
   "id": "db8ec8fa-358d-4951-b256-e826f7fd4519",
   "metadata": {},
   "source": [
    "This game is inspired in the movie \"Tarzan\". The storyline is that Tarzan wakes up one day and realises that Jane, the girl he's in love with, gets kidnapped by the baboons, a type of monkey, and he needs to rescue her. The player needs to help Tarzan, by chasing the baboons as well. During the game the player needs to decide what to do. There are no current bugs in the code; however, I wasn't able to figure out a way to color the input clause since the output is the uncolored text plus the color's code on both sides. By separating the text with a print clause and adding a input clause, I was able to solve the problem but i believe there should be a more practical way to do so."
   ]
  },
  {
   "cell_type": "code",
   "execution_count": 22,
   "id": "5aae2521-6f55-46af-81da-fcd30f3073b5",
   "metadata": {},
   "outputs": [
    {
     "name": "stdout",
     "output_type": "stream",
     "text": [
      "\u001b[35m\n",
      "                                 _    _ _____ _     _____ ________  ___ _____ \n",
      "                                | |  | |  ___| |   /  __ \\  _  |  \\/  ||  ___|\n",
      "                                | |  | | |__ | |   | /  \\/ | | | .  . || |__  \n",
      "                                | |/\\| |  __|| |   | |   | | | | |\\/| ||  __| \n",
      "                                \\  /\\  / |___| |___| \\__/\\ \\_/ / |  | || |___ \n",
      "                                 \\/  \\/\\____/\\_____/\\____/\\___/\\_|  |_/\\____/ \n",
      "\n",
      "                              _____ _____   _____ ___  ______ ______  ___   _   _ \n",
      "                            |_   _|  _  | |_   _/ _ \\ | ___ \\___  / / _ \\ | \\ | |\n",
      "                              | | | | | |   | |/ /_\\ \\| |_/ /  / / / /_\\ \\|  \\| |\n",
      "                              | | | | | |   | ||  _  ||    /  / /  |  _  || . ` |\n",
      "                              | | \\ \\_/ /   | || | | || |\\ \\./ /___| | | || |\\  |\n",
      "                              \\_/  \\___/    \\_/\\_| |_/\\_| \\_\\_____/\\_| |_/\\_| \\_/\n",
      "\n",
      "\n",
      "\n",
      "\u001b[39m\n"
     ]
    },
    {
     "name": "stdin",
     "output_type": "stream",
     "text": [
      "What is your name?: carol\n"
     ]
    },
    {
     "name": "stdout",
     "output_type": "stream",
     "text": [
      "Hi carol 👋🏻! Nice to meet you! Hope you are as excited as me!\n"
     ]
    },
    {
     "name": "stdin",
     "output_type": "stream",
     "text": [
      "Have you watched the movie \"Tarzan\"? gfdsa\n"
     ]
    },
    {
     "name": "stdout",
     "output_type": "stream",
     "text": [
      "I didn't get that.\n"
     ]
    },
    {
     "name": "stdin",
     "output_type": "stream",
     "text": [
      "Have you watched the movie \"Tarzan\"? fdsa\n"
     ]
    },
    {
     "name": "stdout",
     "output_type": "stream",
     "text": [
      "I didn't get that.\n"
     ]
    },
    {
     "name": "stdin",
     "output_type": "stream",
     "text": [
      "Have you watched the movie \"Tarzan\"? no\n"
     ]
    },
    {
     "name": "stdout",
     "output_type": "stream",
     "text": [
      "\u001b[31mOh, that's okay 😕 \u001b[39m\n"
     ]
    },
    {
     "name": "stdin",
     "output_type": "stream",
     "text": [
      "What's your favorite movie? gdfs\n"
     ]
    },
    {
     "name": "stdout",
     "output_type": "stream",
     "text": [
      "That's a great one! I'll take your suggestion one of these days 🥰\n",
      "\u001b[35m\n",
      "                \n",
      "******************************************\n",
      "\n",
      "Here's a little context:\n",
      "\n",
      "Tarzan was found in the jungle by an ape called Kala. Kala and the ape civilization\n",
      "decided to take care of baby Tarzan. While he grew up, he learned many skills from \n",
      "the animals in the jungle. One day, he meets Jane and falls in love with her 💗💕💓💖💘\n",
      "\n",
      "\n",
      "But.........\n",
      "\n",
      "\n",
      "All of a sudden, something happens and Tarzan needs your help!\n",
      "\n",
      "******************************************\n",
      "\u001b[39m\n",
      "\u001b[33m\n",
      "ARE YOU READY TO KNOW WHAT HAPPENED? \n",
      "Press <ENTER> to find out 😳\n",
      "\n",
      "\u001b[39m\n"
     ]
    },
    {
     "name": "stdin",
     "output_type": "stream",
     "text": [
      " \n"
     ]
    },
    {
     "name": "stdout",
     "output_type": "stream",
     "text": [
      "\u001b[34m\n",
      "*********************************************************\n",
      "\n",
      "                WELCOME TO \n",
      "\n",
      "██╗     ███████╗██╗   ██╗███████╗██╗          ██╗\n",
      "██║     ██╔════╝██║   ██║██╔════╝██║         ███║\n",
      "██║     █████╗  ██║   ██║█████╗  ██║         ╚██║\n",
      "██║     ██╔══╝  ╚██╗ ██╔╝██╔══╝  ██║          ██║\n",
      "███████╗███████╗ ╚████╔╝ ███████╗███████╗     ██║\n",
      "╚══════╝╚══════╝  ╚═══╝  ╚══════╝╚══════╝     ╚═╝\n",
      "\n",
      "*********************************************************\n",
      "\u001b[39m\n",
      "\u001b[31m\n",
      "Today, Tarzan woke up and he found out that Jane \n",
      "had been kidnapped and hidden somewhere by the babboons 🐒. \n",
      "⚠️ He needs your help on this mission ⚠️ \n",
      "\u001b[39m\n"
     ]
    },
    {
     "name": "stdin",
     "output_type": "stream",
     "text": [
      " Press <ENTER> to continue \n"
     ]
    },
    {
     "name": "stdout",
     "output_type": "stream",
     "text": [
      "\n",
      "First, you need to choose your weapon. \n",
      "These are your options:\n",
      "\n",
      " 🪵 stick\n",
      " 🔫 shotgun\n",
      " 🔪 knife\n"
     ]
    },
    {
     "name": "stdin",
     "output_type": "stream",
     "text": [
      "Which one do you want? fsdas\n"
     ]
    },
    {
     "name": "stdout",
     "output_type": "stream",
     "text": [
      "Please try again\t\n"
     ]
    },
    {
     "name": "stdin",
     "output_type": "stream",
     "text": [
      "Which one do you want? fdas\n"
     ]
    },
    {
     "name": "stdout",
     "output_type": "stream",
     "text": [
      "Please try again\t\n"
     ]
    },
    {
     "name": "stdin",
     "output_type": "stream",
     "text": [
      "Which one do you want? knife\n"
     ]
    },
    {
     "name": "stdout",
     "output_type": "stream",
     "text": [
      "\n",
      "Good!! You chose a knife and now you need to rush to follow \n",
      "the baboons and save Jane!\n",
      "\u001b[31m     \n",
      "  _   _   _   _   _   _  \n",
      " / \\ / \\ / \\ / \\ / \\ / \\ \n",
      "( R | U | N | ! | ! | ! )\n",
      " \\_/ \\_/ \\_/ \\_/ \\_/ \\_/ \n",
      "\u001b[39m\n",
      "\n",
      "         🏃🏻‍♂️\n",
      "\n",
      "         🏃🏻‍♂️\n",
      "\n",
      "         🏃🏻‍♂️\n",
      "\n",
      "         🏃🏻‍♂️\n",
      "\n",
      "         🏃🏻‍♂️\n",
      "\n",
      "         🏃🏻‍♂️\n",
      "\u001b[34m\n",
      "OH NOOO!! You lost the baboons and you arrive to a crossroads ↖️↗️. \n",
      "You can choose to go left or right. \t\u001b[39m\n"
     ]
    },
    {
     "name": "stdin",
     "output_type": "stream",
     "text": [
      "Type \"left\" or \"right: hgfdsda\n"
     ]
    },
    {
     "name": "stdout",
     "output_type": "stream",
     "text": [
      "I didn't get that. Please try again?\t\n",
      "\u001b[34m\n",
      "OH NOOO!! You lost the baboons and you arrive to a crossroads ↖️↗️. \n",
      "You can choose to go left or right. \t\u001b[39m\n"
     ]
    },
    {
     "name": "stdin",
     "output_type": "stream",
     "text": [
      "Type \"left\" or \"right: left\n"
     ]
    },
    {
     "name": "stdout",
     "output_type": "stream",
     "text": [
      "\n",
      "Damn!! The baboons placed a trap on the floor and you fell into it...You're dead 😢\n",
      "\n",
      "But okay, I'll give you another chance ❤️. Start from the beginning\n",
      "\u001b[34m\n",
      "OH NOOO!! You lost the baboons and you arrive to a crossroads ↖️↗️. \n",
      "You can choose to go left or right. \t\u001b[39m\n"
     ]
    },
    {
     "name": "stdin",
     "output_type": "stream",
     "text": [
      "Type \"left\" or \"right: right\n"
     ]
    },
    {
     "name": "stdout",
     "output_type": "stream",
     "text": [
      "\n",
      "Good choice! The baboons had placed a trap on the left. You escaped it! \n",
      "And now you arrive to a river. What do you want to do next?:\n",
      "                  1. Swim through the river 🌊\n",
      "                  2. Walk around it 🔄\n",
      "\n",
      "\u001b[34mWhat's your choice, 1 or 2?\u001b[39m\n"
     ]
    },
    {
     "name": "stdin",
     "output_type": "stream",
     "text": [
      " jmgfds\n"
     ]
    },
    {
     "name": "stdout",
     "output_type": "stream",
     "text": [
      "I didn't get that. Please try again?\t\n",
      "\n",
      "Good choice! The baboons had placed a trap on the left. You escaped it! \n",
      "And now you arrive to a river. What do you want to do next?:\n",
      "                  1. Swim through the river 🌊\n",
      "                  2. Walk around it 🔄\n",
      "\n",
      "\u001b[34mWhat's your choice, 1 or 2?\u001b[39m\n"
     ]
    },
    {
     "name": "stdin",
     "output_type": "stream",
     "text": [
      " 1\n"
     ]
    },
    {
     "name": "stdout",
     "output_type": "stream",
     "text": [
      "Oopsi...There was an alligator 🐊 waiting for you. You died 😢\n",
      "But I want you to keep playing my game so here's another life ❤️. Start from the beginning\n",
      "\n",
      "Good choice! The baboons had placed a trap on the left. You escaped it! \n",
      "And now you arrive to a river. What do you want to do next?:\n",
      "                  1. Swim through the river 🌊\n",
      "                  2. Walk around it 🔄\n",
      "\n",
      "\u001b[34mWhat's your choice, 1 or 2?\u001b[39m\n"
     ]
    },
    {
     "name": "stdin",
     "output_type": "stream",
     "text": [
      " 2\n"
     ]
    },
    {
     "name": "stdout",
     "output_type": "stream",
     "text": [
      "\n",
      "You walked many miles and ran out of water but you survived!  \n",
      "You fell into a portal and became unconscious 😵 \n",
      "\u001b[35m  \n",
      "    \n",
      "    \n",
      "    \n",
      "                CONGRATULATIONS! \n",
      "                You made it to\n",
      "\n",
      "██╗     ███████╗██╗   ██╗███████╗██╗         ██████╗ \n",
      "██║     ██╔════╝██║   ██║██╔════╝██║         ╚════██╗\n",
      "██║     █████╗  ██║   ██║█████╗  ██║          █████╔╝\n",
      "██║     ██╔══╝  ╚██╗ ██╔╝██╔══╝  ██║         ██╔═══╝ \n",
      "███████╗███████╗ ╚████╔╝ ███████╗███████╗    ███████╗\n",
      "╚══════╝╚══════╝  ╚═══╝  ╚══════╝╚══════╝    ╚══════╝\n",
      "\n",
      "\u001b[39m\n",
      "\u001b[34m\n",
      "\n",
      "You won the possibility to choose a SUPERPOWER 🪄. Type 1 or 2:\n",
      "1. Being super strong 💪🏻\n",
      "2. Being invisible 😶‍🌫️ \n",
      "\n",
      "\u001b[39m\n"
     ]
    },
    {
     "name": "stdin",
     "output_type": "stream",
     "text": [
      "Choose a number: hgfsdas\n"
     ]
    },
    {
     "name": "stdout",
     "output_type": "stream",
     "text": [
      "There was no valid number. Try again:\n"
     ]
    },
    {
     "name": "stdin",
     "output_type": "stream",
     "text": [
      "Choose a number: dwqs\n"
     ]
    },
    {
     "name": "stdout",
     "output_type": "stream",
     "text": [
      "There was no valid number. Try again:\n"
     ]
    },
    {
     "name": "stdin",
     "output_type": "stream",
     "text": [
      "Choose a number: 2\n"
     ]
    },
    {
     "name": "stdout",
     "output_type": "stream",
     "text": [
      "WOW! Now you are invisible so you walked throught the wall and escaped! \n",
      "\u001b[33mLet's continue looking for Jane. You should climb a tree 🌴 to see if you spot her 👀. \u001b[39m\n",
      ".\n",
      ".\n",
      ".\n",
      ".\n",
      ".\n",
      ".\n",
      "\n",
      "  _ _ _  __     ______  _    _      _____ ______ ______     _    _ ______ _____    _ _ _ \n",
      " | | | | \\ \\   / / __ \\| |  | |    / ____|  ____|  ____|   | |  | |  ____|  __ \\  | | | |\n",
      " | | | |  \\ \\_/ / |  | | |  | |   | (___ | |__  | |__      | |__| | |__  | |__) | | | | |\n",
      " | | | |   \\   /| |  | | |  | |    \\___ \\|  __| |  __|     |  __  |  __| |  _  /  | | | |\n",
      " |_|_|_|    | | | |__| | |__| |    ____) | |____| |____    | |  | | |____| | \\ \\  |_|_|_|\n",
      " (_|_|_)    |_|  \\____/ \\____/    |_____/|______|______|   |_|  |_|______|_|  \\_\\ (_|_|_)\n",
      "                                                                                         \n",
      " Jane is hiding on a tree.\n",
      "\u001b[34m\n",
      "\n",
      "Choose how you want to go meet her. Type 1 or 2:\n",
      "1. Swing on the vines \n",
      "2. Jump from tree to tree\n",
      "\u001b[39m\n"
     ]
    },
    {
     "name": "stdin",
     "output_type": "stream",
     "text": [
      "Answer: hgdfsx\n"
     ]
    },
    {
     "name": "stdout",
     "output_type": "stream",
     "text": [
      "I don't know what you said. Try again please!\n"
     ]
    },
    {
     "name": "stdin",
     "output_type": "stream",
     "text": [
      "Answer: 1\n"
     ]
    },
    {
     "name": "stdout",
     "output_type": "stream",
     "text": [
      "Good job! You found Jane!!\n",
      "            \n",
      "\u001b[36m\n",
      "    \n",
      "            WOW!! You're a warrior!!!\n",
      "                  WELCOME TO\n",
      "\n",
      "██╗     ███████╗██╗   ██╗███████╗██╗         ██████╗ \n",
      "██║     ██╔════╝██║   ██║██╔════╝██║         ╚════██╗\n",
      "██║     █████╗  ██║   ██║█████╗  ██║          █████╔╝\n",
      "██║     ██╔══╝  ╚██╗ ██╔╝██╔══╝  ██║          ╚═══██╗\n",
      "███████╗███████╗ ╚████╔╝ ███████╗███████╗    ██████╔╝\n",
      "╚══════╝╚══════╝  ╚═══╝  ╚══════╝╚══════╝    ╚═════╝ \n",
      "\n",
      "                            \u001b[39m\n",
      "\u001b[33m\n",
      "You are with Jane, but one of the baboons wants to fight you!\n",
      "\n",
      "    Press 1 to punch the baboon 👊🏻\n",
      "    Press 2 to kick the baboon🦵🏻\n",
      "    Press 3 to throw Jane at the baboon and run away 💨 \n",
      "    \n",
      "\u001b[39m\n"
     ]
    },
    {
     "name": "stdin",
     "output_type": "stream",
     "text": [
      "What's your choice? hrfs\n"
     ]
    },
    {
     "name": "stdout",
     "output_type": "stream",
     "text": [
      "That doesn't seem correct...Try again:\n"
     ]
    },
    {
     "name": "stdin",
     "output_type": "stream",
     "text": [
      "What's your choice? 2\n"
     ]
    },
    {
     "name": "stdout",
     "output_type": "stream",
     "text": [
      "AUTCH!!! That was a hard kick, good job! You killed the baboon\n",
      "\u001b[32m\n",
      "\n",
      " ██████╗ ██████╗ ███╗   ██╗ ██████╗ ██████╗  █████╗ ████████╗███████╗██╗██╗    \n",
      "██╔════╝██╔═══██╗████╗  ██║██╔════╝ ██╔══██╗██╔══██╗╚══██╔══╝██╔════╝██║██║    \n",
      "██║     ██║   ██║██╔██╗ ██║██║  ███╗██████╔╝███████║   ██║   ███████╗██║██║    \n",
      "██║     ██║   ██║██║╚██╗██║██║   ██║██╔══██╗██╔══██║   ██║   ╚════██║╚═╝╚═╝    \n",
      "╚██████╗╚██████╔╝██║ ╚████║╚██████╔╝██║  ██║██║  ██║   ██║   ███████║██╗██╗    \n",
      " ╚═════╝ ╚═════╝ ╚═╝  ╚═══╝ ╚═════╝ ╚═╝  ╚═╝╚═╝  ╚═╝   ╚═╝   ╚══════╝╚═╝╚═╝    \n",
      "\n",
      "\n",
      "\n",
      "\n",
      "      ██╗   ██╗ ██████╗ ██╗   ██╗    ██╗    ██╗ ██████╗ ███╗   ██╗                   \n",
      "      ╚██╗ ██╔╝██╔═══██╗██║   ██║    ██║    ██║██╔═══██╗████╗  ██║                   \n",
      "       ╚████╔╝ ██║   ██║██║   ██║    ██║ █╗ ██║██║   ██║██╔██╗ ██║                   \n",
      "        ╚██╔╝  ██║   ██║██║   ██║    ██║███╗██║██║   ██║██║╚██╗██║                   \n",
      "         ██║   ╚██████╔╝╚██████╔╝    ╚███╔███╔╝╚██████╔╝██║ ╚████║                   \n",
      "         ╚═╝    ╚═════╝  ╚═════╝      ╚══╝╚══╝  ╚═════╝ ╚═╝  ╚═══╝                   \n",
      "\n",
      "\n",
      "                                                                                \n",
      "\n",
      "    \n",
      "    \u001b[39m\n"
     ]
    }
   ],
   "source": [
    "#import package for colored text\n",
    "import colorama\n",
    "from colorama import Fore\n",
    "# import package to build delays on text\n",
    "import time\n",
    "\n",
    "\n",
    "######### BEGINNING OF THE GAME #########\n",
    "\n",
    "# INTRODUCTION STARTS WITH A COLORED WELCOME MESSAGE\n",
    "print(Fore.MAGENTA + \"\"\"\n",
    "                                 _    _ _____ _     _____ ________  ___ _____ \n",
    "                                | |  | |  ___| |   /  __ \\  _  |  \\/  ||  ___|\n",
    "                                | |  | | |__ | |   | /  \\/ | | | .  . || |__  \n",
    "                                | |/\\| |  __|| |   | |   | | | | |\\/| ||  __| \n",
    "                                \\  /\\  / |___| |___| \\__/\\ \\_/ / |  | || |___ \n",
    "                                 \\/  \\/\\____/\\_____/\\____/\\___/\\_|  |_/\\____/ \n",
    "\n",
    "                              _____ _____   _____ ___  ______ ______  ___   _   _ \n",
    "                            |_   _|  _  | |_   _/ _ \\ | ___ \\___  / / _ \\ | \\ | |\n",
    "                              | | | | | |   | |/ /_\\ \\| |_/ /  / / / /_\\ \\|  \\| |\n",
    "                              | | | | | |   | ||  _  ||    /  / /  |  _  || . ` |\n",
    "                              | | \\ \\_/ /   | || | | || |\\ \\./ /___| | | || |\\  |\n",
    "                              \\_/  \\___/    \\_/\\_| |_/\\_| \\_\\_____/\\_| |_/\\_| \\_/\n",
    "\n",
    "\n",
    "\n",
    "\"\"\" + Fore.RESET)  # fore.magenta is used to call the color magenta to the text\n",
    "                   # fore.reset is used to reset to the original color                                            \n",
    "\n",
    "# ALLOWING USERS TO INPUT THEIR NAMES\n",
    "name = input(\"\"\"What is your name?:\"\"\")\n",
    "print(f\"\"\"Hi {name} 👋🏻! Nice to meet you! Hope you are as excited as me!\"\"\") #f-string to replace with the name variable\n",
    "time.sleep(1) #to cause a delay of 1 second\n",
    "\n",
    "# ASKING THE PLAYER IF THEY WATCHED THE MOVIE BEFORE WITH A YES OR NO QUESTION\n",
    "while True: # while loop in case the player types something unrecognisable\n",
    "    answer = input(\"\"\"Have you watched the movie \"Tarzan\"?\"\"\")\n",
    "\n",
    "    # conditional clause yes vs no  \n",
    "    if answer in (\"yes\", \"Yes\", \"YES\", \"y\", \"Y\"): \n",
    "        print(Fore.GREEN + \"\"\"That's great! You're gonna have a good time. Let's begin!\"\"\" +  Fore.RESET)\n",
    "        time.sleep(1)\n",
    "        break\n",
    "        \n",
    "    elif answer in (\"no\", \"No\", \"NO\", \"n\", \"N\"):\n",
    "        print(Fore.RED + \"\"\"Oh, that's okay 😕 \"\"\"+  Fore.RESET)\n",
    "        input(\"\"\"What's your favorite movie?\"\"\")\n",
    "        time.sleep(0.5)\n",
    "        print(\"\"\"That's a great one! I'll take your suggestion one of these days 🥰\"\"\")\n",
    "        time.sleep(1)\n",
    "        break\n",
    "        \n",
    "    else:\n",
    "        print(\"I didn't get that.\")\n",
    "    \n",
    "# SHOWCASING THE STORY BEHIND THE GAME  \n",
    "print(Fore.MAGENTA + \"\"\"\n",
    "                \n",
    "******************************************\n",
    "\n",
    "Here's a little context:\n",
    "\n",
    "Tarzan was found in the jungle by an ape called Kala. Kala and the ape civilization\n",
    "decided to take care of baby Tarzan. While he grew up, he learned many skills from \n",
    "the animals in the jungle. One day, he meets Jane and falls in love with her 💗💕💓💖💘\n",
    "\n",
    "\n",
    "But.........\n",
    "\n",
    "\n",
    "All of a sudden, something happens and Tarzan needs your help!\n",
    "\n",
    "******************************************\n",
    "\"\"\" + Fore.RESET)\n",
    "time.sleep(2)\n",
    "    \n",
    "    \n",
    "print(Fore.YELLOW + \"\"\"\n",
    "ARE YOU READY TO KNOW WHAT HAPPENED? \n",
    "Press <ENTER> to find out 😳\n",
    "\n",
    "\"\"\" + Fore.RESET)\n",
    "input() #input statement is separated from the colored string because otherwise it doesn't show the color\n",
    "\n",
    "\n",
    "\n",
    "# DEFINING ROOM 1\n",
    "def room1():\n",
    "    \n",
    "    print(Fore.BLUE + \"\"\"\n",
    "*********************************************************\n",
    "\n",
    "                WELCOME TO \n",
    "\n",
    "██╗     ███████╗██╗   ██╗███████╗██╗          ██╗\n",
    "██║     ██╔════╝██║   ██║██╔════╝██║         ███║\n",
    "██║     █████╗  ██║   ██║█████╗  ██║         ╚██║\n",
    "██║     ██╔══╝  ╚██╗ ██╔╝██╔══╝  ██║          ██║\n",
    "███████╗███████╗ ╚████╔╝ ███████╗███████╗     ██║\n",
    "╚══════╝╚══════╝  ╚═══╝  ╚══════╝╚══════╝     ╚═╝\n",
    "\n",
    "*********************************************************\n",
    "\"\"\" + Fore.RESET)\n",
    "\n",
    "\n",
    "    \n",
    "    \n",
    "    print(Fore.RED + \"\"\"\n",
    "Today, Tarzan woke up and he found out that Jane \n",
    "had been kidnapped and hidden somewhere by the babboons 🐒. \n",
    "⚠️ He needs your help on this mission ⚠️ \n",
    "\"\"\" + Fore.RESET)\n",
    "    time.sleep(1)\n",
    "    input(\"\"\" Press <ENTER> to continue\"\"\")\n",
    "\n",
    "# SHOWING THE PLAYER THE WEAPON OPTIONS\n",
    "    print(\"\"\"\n",
    "First, you need to choose your weapon. \n",
    "These are your options:\\n\"\"\")\n",
    "    \n",
    "    #creating a list \n",
    "    weapon_lst = [' 🪵 stick', ' 🔫 shotgun', ' 🔪 knife']\n",
    "    for weapon in weapon_lst: # for loop to print the list of weapons\n",
    "\n",
    "        print(f\"\"\"{weapon}\"\"\") #f-string to make it automatic, instead of writting all 3 weapons.\n",
    "        time.sleep(1)\n",
    "\n",
    "    ## ASKING THE PLAYER TO CHOOSE A WEAPON\n",
    "    while True: # while loop to retry if the player types the wrong answer\n",
    "        weapon = input(\"\"\"Which one do you want?\"\"\")\n",
    "\n",
    "        if weapon in (\"stick\", \"shotgun\", \"knife\"):\n",
    "            print(f\"\"\"\n",
    "Good!! You chose a {weapon} and now you need to rush to follow \n",
    "the baboons and save Jane!\"\"\")\n",
    "            break # to stop the loop if the player writes the weapon's name correctly\n",
    "\n",
    "        else:\n",
    "            print(\"\"\"Please try again\\t\"\"\") # in case the player types an unknown word or typo\n",
    "\n",
    "\n",
    "# RUNNING EMOJIS TO CREATE DYNAMIC AND INTERACTIVITY TO THE GAME            \n",
    "    \n",
    "    print(Fore.RED + \"\"\"     \n",
    "  _   _   _   _   _   _  \n",
    " / \\ / \\ / \\ / \\ / \\ / \\ \n",
    "( R | U | N | ! | ! | ! )\n",
    " \\_/ \\_/ \\_/ \\_/ \\_/ \\_/ \n",
    "\"\"\" + Fore.RESET) \n",
    "    time.sleep(1)\n",
    "    print(\"\"\"\n",
    "         🏃🏻‍♂️\"\"\")\n",
    "    time.sleep(0.5)\n",
    "    print(\"\"\"\n",
    "         🏃🏻‍♂️\"\"\")\n",
    "    time.sleep(0.5)\n",
    "    print(\"\"\"\n",
    "         🏃🏻‍♂️\"\"\")\n",
    "    time.sleep(0.5)\n",
    "    print(\"\"\"\n",
    "         🏃🏻‍♂️\"\"\")\n",
    "    time.sleep(0.5)\n",
    "    print(\"\"\"\n",
    "         🏃🏻‍♂️\"\"\")\n",
    "    time.sleep(0.5)\n",
    "    print(\"\"\"\n",
    "         🏃🏻‍♂️\"\"\")\n",
    "    time.sleep(0.5)\n",
    "    \n",
    "# FIRST QUEST\n",
    "    while True: # while loop to make the player start over in case they fail or type something wrong   \n",
    "        print(Fore.BLUE + \"\"\"\n",
    "OH NOOO!! You lost the baboons and you arrive to a crossroads ↖️↗️. \n",
    "You can choose to go left or right. \\t\"\"\"\n",
    "         + Fore.RESET)\n",
    "\n",
    "        crossroads = input(\"\"\"Type \"left\" or \"right:\"\"\") #input clause needs to be separated from the colored print clause\n",
    "\n",
    "        if crossroads == \"left\": \n",
    "            print(\"\"\"\n",
    "Damn!! The baboons placed a trap on the floor and you fell into it...You're dead 😢\n",
    "\n",
    "But okay, I'll give you another chance ❤️. Start from the beginning\"\"\")\n",
    "            time.sleep(1)\n",
    "            \n",
    "\n",
    "        elif crossroads == \"right\":\n",
    "            while True: # while loop to  make the player start over in case they fail or type something wrong\n",
    "                # SUB QUEST\n",
    "                print(\"\"\"\n",
    "Good choice! The baboons had placed a trap on the left. You escaped it! \n",
    "And now you arrive to a river. What do you want to do next?:\n",
    "                  1. Swim through the river 🌊\n",
    "                  2. Walk around it 🔄\\n\"\"\") \n",
    "                next_ = print(Fore.BLUE + \"\"\"What's your choice, 1 or 2?\"\"\" + Fore.RESET)\n",
    "                next_ = input()\n",
    "\n",
    "                if next_ == \"1\":\n",
    "                    print(\"\"\"Oopsi...There was an alligator 🐊 waiting for you. You died 😢\"\"\")\n",
    "                    print(\"\"\"But I want you to keep playing my game so here's another life ❤️. Start from the beginning\"\"\")\n",
    "                    time.sleep(1)\n",
    "                    \n",
    "            \n",
    "                elif next_ == \"2\": \n",
    "                    print(\"\"\"\n",
    "You walked many miles and ran out of water but you survived!  \n",
    "You fell into a portal and became unconscious 😵 \"\"\")\n",
    "                    room2() # this moves the player to level 2\n",
    "                    break # to stop the loop when player types 2\n",
    "                    \n",
    "                else: \n",
    "                    print(\"\"\"I didn't get that. Please try again?\\t\"\"\") # in case player makes a typo\n",
    "                    \n",
    "            break # break the first while loop when player types \"right\"\n",
    "            \n",
    "        else: \n",
    "            print(\"\"\"I didn't get that. Please try again?\\t\"\"\") # in case player makes a typo\n",
    "\n",
    "# DEFINING ROOM 2\n",
    "def room2():\n",
    "    \n",
    "    time.sleep(2) # delay of 2 seconds to enter the room.\n",
    "    print(Fore.MAGENTA + \"\"\"  \n",
    "    \n",
    "    \n",
    "    \n",
    "                CONGRATULATIONS! \n",
    "                You made it to\n",
    "\n",
    "██╗     ███████╗██╗   ██╗███████╗██╗         ██████╗ \n",
    "██║     ██╔════╝██║   ██║██╔════╝██║         ╚════██╗\n",
    "██║     █████╗  ██║   ██║█████╗  ██║          █████╔╝\n",
    "██║     ██╔══╝  ╚██╗ ██╔╝██╔══╝  ██║         ██╔═══╝ \n",
    "███████╗███████╗ ╚████╔╝ ███████╗███████╗    ███████╗\n",
    "╚══════╝╚══════╝  ╚═══╝  ╚══════╝╚══════╝    ╚══════╝\n",
    "\n",
    "\"\"\" + Fore.RESET)\n",
    "    time.sleep(2)\n",
    "    \n",
    "    \n",
    "# ASKING THE PLAYER TO CHOOSE A SUPERPOWER    \n",
    "    print(Fore.BLUE + \"\"\"\n",
    "\n",
    "You won the possibility to choose a SUPERPOWER 🪄. Type 1 or 2:\n",
    "1. Being super strong 💪🏻\n",
    "2. Being invisible 😶‍🌫️ \\n\n",
    "\"\"\" + Fore.RESET)\n",
    "\n",
    "    while True: # while loop in case the player types something else than 1 or 2\n",
    "        try: # try except clause to handle errors\n",
    "            superpower = int(input(\"\"\"Choose a number:\"\"\"))\n",
    "            if superpower == 1:\n",
    "                print(\"\"\"WOW! Now you are super strong so you broke into the bunker's wall and escaped! \"\"\")\n",
    "                break #to stop the loop once the player types 1             \n",
    "\n",
    "            else:\n",
    "                print(\"\"\"WOW! Now you are invisible so you walked throught the wall and escaped! \"\"\")\n",
    "                break #to stop the loop once the player types 2       \n",
    "\n",
    "        except:\n",
    "            print(\"\"\"There was no valid number. Try again:\"\"\") \n",
    "\n",
    "# SECOND QUEST\n",
    "    print(Fore.YELLOW + \"\"\"Let's continue looking for Jane. You should climb a tree 🌴 to see if you spot her 👀. \"\"\" + Fore.RESET)\n",
    "\n",
    "    print(\".\")\n",
    "    time.sleep(0.5)\n",
    "    print(\".\")\n",
    "    time.sleep(0.5)\n",
    "    print(\".\")\n",
    "    time.sleep(0.5)\n",
    "    print(\".\")\n",
    "    time.sleep(0.5)\n",
    "    print(\".\")\n",
    "    time.sleep(0.5)\n",
    "    print(\".\")\n",
    "    time.sleep(0.5)\n",
    "\n",
    "    print(\"\"\"\n",
    "  _ _ _  __     ______  _    _      _____ ______ ______     _    _ ______ _____    _ _ _ \n",
    " | | | | \\ \\   / / __ \\| |  | |    / ____|  ____|  ____|   | |  | |  ____|  __ \\  | | | |\n",
    " | | | |  \\ \\_/ / |  | | |  | |   | (___ | |__  | |__      | |__| | |__  | |__) | | | | |\n",
    " | | | |   \\   /| |  | | |  | |    \\___ \\|  __| |  __|     |  __  |  __| |  _  /  | | | |\n",
    " |_|_|_|    | | | |__| | |__| |    ____) | |____| |____    | |  | | |____| | \\ \\  |_|_|_|\n",
    " (_|_|_)    |_|  \\____/ \\____/    |_____/|______|______|   |_|  |_|______|_|  \\_\\ (_|_|_)\n",
    "                                                                                         \n",
    " Jane is hiding on a tree.\"\"\")\n",
    "\n",
    "    \n",
    "#THIRD QUEST\n",
    "    print(Fore.BLUE + \"\"\"\n",
    "\n",
    "Choose how you want to go meet her. Type 1 or 2:\n",
    "1. Swing on the vines \n",
    "2. Jump from tree to tree\\n\"\"\" + Fore.RESET)\n",
    "    \n",
    "    while True: # while loop in case the player types something else than 1 or 2\n",
    "        tree = input(\"\"\"Answer:\"\"\")\n",
    "        if tree == \"1\":\n",
    "            print(\"\"\"Good job! You found Jane!!\n",
    "            \"\"\")\n",
    "            room3() # this moves the player to room 3\n",
    "            break #to stop the loop once the player types 2       \n",
    "            \n",
    "        elif tree == \"2\":\n",
    "            print(\"\"\"Good job! You found Jane!!\"\"\")\n",
    "            room3() # this moves the player to room 3\n",
    "            break #to stop the loop once the player types 2       \n",
    "            \n",
    "        else:\n",
    "            print(\"\"\"I don't know what you said. Try again please!\"\"\")\n",
    "\n",
    "# DEFINING ROOM 3\n",
    "\n",
    "def room3():\n",
    "    \n",
    "    time.sleep(1) # to delay the appearance of level 3\n",
    "    print(Fore.CYAN + \"\"\"\n",
    "    \n",
    "            WOW!! You're a warrior!!!\n",
    "                  WELCOME TO\n",
    "\n",
    "██╗     ███████╗██╗   ██╗███████╗██╗         ██████╗ \n",
    "██║     ██╔════╝██║   ██║██╔════╝██║         ╚════██╗\n",
    "██║     █████╗  ██║   ██║█████╗  ██║          █████╔╝\n",
    "██║     ██╔══╝  ╚██╗ ██╔╝██╔══╝  ██║          ╚═══██╗\n",
    "███████╗███████╗ ╚████╔╝ ███████╗███████╗    ██████╔╝\n",
    "╚══════╝╚══════╝  ╚═══╝  ╚══════╝╚══════╝    ╚═════╝ \n",
    "\n",
    "                            \"\"\" + Fore.RESET)\n",
    "    time.sleep(1)\n",
    "    \n",
    "    \n",
    "    \n",
    "    \n",
    "#FINAL QUEST\n",
    "    print(Fore.YELLOW + f\"\"\"\n",
    "You are with Jane, but one of the baboons wants to fight you!\n",
    "\n",
    "    Press 1 to punch the baboon 👊🏻\n",
    "    Press 2 to kick the baboon🦵🏻\n",
    "    Press 3 to throw Jane at the baboon and run away 💨 \n",
    "    \n",
    "\"\"\" + Fore.RESET)\n",
    "    \n",
    "    while True:# while loop in case the player types something else than 1 or 2\n",
    "        answer = input(\"What's your choice?\")\n",
    "        if answer == \"1\":\n",
    "            print(\"\"\"BAM 👊🏻!!! You killed the baboon!\"\"\")\n",
    "            win() # this calls the win function\n",
    "            break #to stop the loop once the player types 2       \n",
    "\n",
    "        elif answer == \"2\":\n",
    "            print(\"\"\"AUTCH!!! That was a hard kick, good job! You killed the baboon\"\"\")\n",
    "            win() # this calls the win function\n",
    "            break #to stop the loop once the player types 2       \n",
    "\n",
    "        elif answer == \"3\":\n",
    "            print(\"\"\"WOW! You really don't care about Jane...You're kicked out of my game 😡\"\"\")\n",
    "            fail() # this calls the fail function\n",
    "            break #to stop the loop once the player types 2       \n",
    "\n",
    "        else:\n",
    "            print(\"\"\"That doesn't seem correct...Try again:\"\"\")\n",
    "\n",
    "            \n",
    "            \n",
    "            \n",
    "# DEFINING A WIN FUNCTION            \n",
    "def win():\n",
    "    \n",
    "    print(Fore.GREEN + \"\"\"\n",
    "\n",
    " ██████╗ ██████╗ ███╗   ██╗ ██████╗ ██████╗  █████╗ ████████╗███████╗██╗██╗    \n",
    "██╔════╝██╔═══██╗████╗  ██║██╔════╝ ██╔══██╗██╔══██╗╚══██╔══╝██╔════╝██║██║    \n",
    "██║     ██║   ██║██╔██╗ ██║██║  ███╗██████╔╝███████║   ██║   ███████╗██║██║    \n",
    "██║     ██║   ██║██║╚██╗██║██║   ██║██╔══██╗██╔══██║   ██║   ╚════██║╚═╝╚═╝    \n",
    "╚██████╗╚██████╔╝██║ ╚████║╚██████╔╝██║  ██║██║  ██║   ██║   ███████║██╗██╗    \n",
    " ╚═════╝ ╚═════╝ ╚═╝  ╚═══╝ ╚═════╝ ╚═╝  ╚═╝╚═╝  ╚═╝   ╚═╝   ╚══════╝╚═╝╚═╝    \n",
    "\n",
    "\n",
    "\n",
    "\n",
    "      ██╗   ██╗ ██████╗ ██╗   ██╗    ██╗    ██╗ ██████╗ ███╗   ██╗                   \n",
    "      ╚██╗ ██╔╝██╔═══██╗██║   ██║    ██║    ██║██╔═══██╗████╗  ██║                   \n",
    "       ╚████╔╝ ██║   ██║██║   ██║    ██║ █╗ ██║██║   ██║██╔██╗ ██║                   \n",
    "        ╚██╔╝  ██║   ██║██║   ██║    ██║███╗██║██║   ██║██║╚██╗██║                   \n",
    "         ██║   ╚██████╔╝╚██████╔╝    ╚███╔███╔╝╚██████╔╝██║ ╚████║                   \n",
    "         ╚═╝    ╚═════╝  ╚═════╝      ╚══╝╚══╝  ╚═════╝ ╚═╝  ╚═══╝                   \n",
    "\n",
    "\n",
    "                                                                                \n",
    "\n",
    "    \n",
    "    \"\"\" + Fore.RESET)\n",
    "    \n",
    "    \n",
    "    \n",
    "    \n",
    "# DEFINING A FAIL FUNCTION\n",
    "def fail():\n",
    "    print(Fore.RED + \"\"\"\n",
    "\n",
    "    SORRY...BEST LUCK NEXT TIME \n",
    "\n",
    "\n",
    "    LLLLLLLLLLL                  OOOOOOOOO        SSSSSSSSSSSSSSS EEEEEEEEEEEEEEEEEEEEEERRRRRRRRRRRRRRRRR   \n",
    "    L:::::::::L                OO:::::::::OO    SS:::::::::::::::SE::::::::::::::::::::ER::::::::::::::::R  \n",
    "    L:::::::::L              OO:::::::::::::OO S:::::SSSSSS::::::SE::::::::::::::::::::ER::::::RRRRRR:::::R \n",
    "    LL:::::::LL             O:::::::OOO:::::::OS:::::S     SSSSSSSEE::::::EEEEEEEEE::::ERR:::::R     R:::::R\n",
    "      L:::::L               O::::::O   O::::::OS:::::S              E:::::E       EEEEEE  R::::R     R:::::R\n",
    "      L:::::L               O:::::O     O:::::OS:::::S              E:::::E               R::::R     R:::::R\n",
    "      L:::::L               O:::::O     O:::::O S::::SSSS           E::::::EEEEEEEEEE     R::::RRRRRR:::::R \n",
    "      L:::::L               O:::::O     O:::::O  SS::::::SSSSS      E:::::::::::::::E     R:::::::::::::RR  \n",
    "      L:::::L               O:::::O     O:::::O    SSS::::::::SS    E:::::::::::::::E     R::::RRRRRR:::::R \n",
    "      L:::::L               O:::::O     O:::::O       SSSSSS::::S   E::::::EEEEEEEEEE     R::::R     R:::::R\n",
    "      L:::::L               O:::::O     O:::::O            S:::::S  E:::::E               R::::R     R:::::R\n",
    "      L:::::L         LLLLLLO::::::O   O::::::O            S:::::S  E:::::E       EEEEEE  R::::R     R:::::R\n",
    "    LL:::::::LLLLLLLLL:::::LO:::::::OOO:::::::OSSSSSSS     S:::::SEE::::::EEEEEEEE:::::ERR:::::R     R:::::R\n",
    "    L::::::::::::::::::::::L OO:::::::::::::OO S::::::SSSSSS:::::SE::::::::::::::::::::ER::::::R     R:::::R\n",
    "    L::::::::::::::::::::::L   OO:::::::::OO   S:::::::::::::::SS E::::::::::::::::::::ER::::::R     R:::::R\n",
    "    LLLLLLLLLLLLLLLLLLLLLLLL     OOOOOOOOO      SSSSSSSSSSSSSSS   EEEEEEEEEEEEEEEEEEEEEERRRRRRRR     RRRRRRR\n",
    "\n",
    "\n",
    "                                                _,.-------.,_\n",
    "                                            ,;~'             '~;,\n",
    "                                          ,;                     ;,\n",
    "                                         ;                         ;\n",
    "                                        ,'                         ',\n",
    "                                       ,;                           ;,\n",
    "                                       ; ;      .           .      ; ;\n",
    "                                       | ;   ______       ______   ; |\n",
    "                                       |  `/~\"     ~\" . \"~     \"~\\'  |\n",
    "                                       |  ~  ,-~~~^~, | ,~^~~~-,  ~  |\n",
    "                                        |   |        }:{        |   |\n",
    "                                        |   l       / | \\       !   |\n",
    "                                        .~  (__,.--\" .^. \"--.,__)  ~.\n",
    "                                        |     ---;' / | \\ `;---     |\n",
    "                                         \\__.       \\/^\\/       .__/\n",
    "                                          V| \\                 / |V\n",
    "                       __                  | |T~\\___!___!___/~T| |                  _____\n",
    "                    .-~  ~\"-.              | |`IIII_I_I_I_IIII'| |               .-~     \"-.\n",
    "                   /         \\             |  \\,III I I I III,/  |              /           Y\n",
    "                  Y          ;              \\   `~~~~~~~~~~'    /               i           |\n",
    "                  `.   _     `._              \\   .       .   /               __)         .'\n",
    "                    )=~         `-.._           \\.    ^    ./           _..-'~         ~\"<_\n",
    "                 .-~                 ~`-.._       ^~~~^~~~^       _..-'~                   ~.\n",
    "                /                          ~`-.._           _..-'~                           Y\n",
    "                {        .~\"-._                  ~`-.._ .-'~                  _..-~;         ;\n",
    "                 `._   _,'     ~`-.._                  ~`-.._           _..-'~     `._    _.-\n",
    "                    ~~\"              ~`-.._                  ~`-.._ .-'~              ~~\"~\n",
    "                  .----.            _..-'  ~`-.._                  ~`-.._          .-~~~~-.\n",
    "                 /      `.    _..-'~             ~`-.._                  ~`-.._   (        \".\n",
    "                Y        `=--~                  _..-'  ~`-.._                  ~`-'         |\n",
    "                |                         _..-'~             ~`-.._                         ;\n",
    "                `._                 _..-'~                         ~`-.._            -._ _.'\n",
    "                   \"-.=\"      _..-'~                                     ~`-.._        ~`.\n",
    "                    /        `.                                                ;          Y\n",
    "                   Y           Y                                              Y           |\n",
    "                   |           ;                                              `.          /\n",
    "                   `.       _.'                                                 \"-.____.-'\n",
    "                     ~-----\"\n",
    "\n",
    "    \"\"\" + Fore.RESET)    \n",
    "    \n",
    "room1() # CALLING ROOM1() SO THAT THE GAME STARTS. EVERYTHING COMES BEFORE THIS CLAUSE.\n",
    "\n",
    "\n"
   ]
  },
  {
   "cell_type": "code",
   "execution_count": null,
   "id": "d58fd47b-dc17-4943-8c49-c45951fd291f",
   "metadata": {},
   "outputs": [],
   "source": []
  }
 ],
 "metadata": {
  "kernelspec": {
   "display_name": "Python 3 (ipykernel)",
   "language": "python",
   "name": "python3"
  },
  "language_info": {
   "codemirror_mode": {
    "name": "ipython",
    "version": 3
   },
   "file_extension": ".py",
   "mimetype": "text/x-python",
   "name": "python",
   "nbconvert_exporter": "python",
   "pygments_lexer": "ipython3",
   "version": "3.9.13"
  }
 },
 "nbformat": 4,
 "nbformat_minor": 5
}
